{
 "cells": [
  {
   "cell_type": "code",
   "execution_count": 3,
   "id": "d415ae73",
   "metadata": {},
   "outputs": [
    {
     "data": {
      "text/plain": [
       "True"
      ]
     },
     "execution_count": 3,
     "metadata": {},
     "output_type": "execute_result"
    }
   ],
   "source": [
    "from dotenv import load_dotenv\n",
    "load_dotenv( override=True)"
   ]
  },
  {
   "cell_type": "markdown",
   "id": "1743f98e",
   "metadata": {},
   "source": [
    "my model this time is used for a movie recommendation assistant that uses RAG (Retrieval-Augmented Generation) to recommend movies based on a user’s query and a vector database of movie descriptions:"
   ]
  },
  {
   "cell_type": "code",
   "execution_count": 1,
   "id": "ed82b906",
   "metadata": {},
   "outputs": [
    {
     "name": "stderr",
     "output_type": "stream",
     "text": [
      "USER_AGENT environment variable not set, consider setting it to identify your requests.\n"
     ]
    }
   ],
   "source": [
    "from langsmith import traceable\n",
    "from openai import OpenAI\n",
    "from typing import List\n",
    "import nest_asyncio\n",
    "from utils import get_vector_db_retriever\n",
    "import os\n",
    "\n",
    "MODEL_PROVIDER = \"openai\"\n",
    "MODEL_NAME = \"gpt-4o-mini\"\n",
    "APP_VERSION = 1.0\n",
    "\n",
    "MOVIE_RAG_SYSTEM_PROMPT = \"\"\"You are a helpful movie recommendation assistant.\n",
    "Use the retrieved movie summaries or reviews as context to recommend movies based on the user's preferences.\n",
    "If you don't find any relevant results, just say that you don’t have enough information.\n",
    "\"\"\"\n",
    "\n",
    "openai_client = OpenAI()\n",
    "nest_asyncio.apply()\n",
    "retriever = get_vector_db_retriever()  # retrieves data from a vector store of movie descriptions\n",
    "\n",
    "@traceable\n",
    "def retrieve_movie_data(query: str):\n",
    "    return retriever.invoke(query)  # This .invoke() call will be automatically traced by LangChain\n",
    "\n",
    "@traceable\n",
    "def generate_movie_recommendations(query: str, movie_docs):\n",
    "    formatted_docs = \"\\n\\n\".join(doc.page_content for doc in movie_docs)\n",
    "    messages = [\n",
    "        {\n",
    "            \"role\": \"system\",\n",
    "            \"content\": MOVIE_RAG_SYSTEM_PROMPT\n",
    "        },\n",
    "        {\n",
    "            \"role\": \"user\",\n",
    "            \"content\": f\"Context: {formatted_docs}\\n\\nUser Query: {query}\"\n",
    "        }\n",
    "    ]\n",
    "    return call_openai(messages)\n",
    "\n",
    "@traceable\n",
    "def call_openai(\n",
    "    messages: List[dict], model: str = MODEL_NAME, temperature: float = 0.7\n",
    ") -> str:\n",
    "    return openai_client.chat.completions.create(\n",
    "        model=model,\n",
    "        messages=messages,\n",
    "        temperature=temperature,\n",
    "    )\n",
    "\n",
    "@traceable\n",
    "def langsmith_movie_rag(query: str):\n",
    "    movie_docs = retrieve_movie_data(query)\n",
    "    response = generate_movie_recommendations(query, movie_docs)\n",
    "    return response.choices[0].message.content\n"
   ]
  },
  {
   "cell_type": "code",
   "execution_count": 2,
   "id": "58f1eed0",
   "metadata": {},
   "outputs": [
    {
     "name": "stdout",
     "output_type": "stream",
     "text": [
      "If you enjoyed \"The Intern,\" here are some feel-good comedy movies you might like:\n",
      "\n",
      "1. **About Time (2013)** - A romantic comedy that combines time travel with heartfelt moments, following a young man who discovers he can time travel and uses this ability to improve his life and relationships.\n",
      "\n",
      "2. **Julie & Julia (2009)** - Starring Meryl Streep and Amy Adams, this film interweaves the lives of Julia Child and a young woman who aspires to cook all 524 recipes in Child's cookbook, showcasing passion and perseverance in a lighthearted manner.\n",
      "\n",
      "3. **The Hundred-Foot Journey (2014)** - A delightful story about an Indian family opening a restaurant in France, which leads to culinary rivalry and cultural exchange. It’s filled with humor, heart, and delicious food.\n",
      "\n",
      "4. **The Proposal (2009)** - Starring Sandra Bullock and Ryan Reynolds, this romantic comedy features a Canadian book editor who convinces her assistant to marry her to avoid deportation, leading to hilarious situations.\n",
      "\n",
      "5. **Little Miss Sunshine (2006)** - A quirky family road trip movie that balances comedy and heartfelt moments as a dysfunctional family travels across the country to support their daughter’s dream of winning a beauty pageant.\n",
      "\n",
      "These films share the feel-good vibe and comedic elements that made \"The Intern\" enjoyable.\n"
     ]
    }
   ],
   "source": [
    "print(langsmith_movie_rag(\"Suggest me feel-good comedy movies like The Intern.\"))"
   ]
  },
  {
   "cell_type": "markdown",
   "id": "e8fe5e64",
   "metadata": {},
   "source": [
    "many other things like i have done in the main notebook you can see here \n",
    "\n",
    "https://smith.langchain.com/public/fdf0e8b1-0beb-4e9b-90b0-2ade35e5f6a4/r"
   ]
  }
 ],
 "metadata": {
  "kernelspec": {
   "display_name": "Python 3",
   "language": "python",
   "name": "python3"
  },
  "language_info": {
   "codemirror_mode": {
    "name": "ipython",
    "version": 3
   },
   "file_extension": ".py",
   "mimetype": "text/x-python",
   "name": "python",
   "nbconvert_exporter": "python",
   "pygments_lexer": "ipython3",
   "version": "3.11.13"
  }
 },
 "nbformat": 4,
 "nbformat_minor": 5
}
