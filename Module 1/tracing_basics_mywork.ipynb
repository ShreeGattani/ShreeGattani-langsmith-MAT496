{
 "cells": [
  {
   "cell_type": "code",
   "execution_count": 3,
   "id": "d415ae73",
   "metadata": {},
   "outputs": [
    {
     "data": {
      "text/plain": [
       "True"
      ]
     },
     "execution_count": 3,
     "metadata": {},
     "output_type": "execute_result"
    }
   ],
   "source": [
    "from dotenv import load_dotenv\n",
    "load_dotenv( override=True)"
   ]
  },
  {
   "cell_type": "code",
   "execution_count": null,
   "id": "6dc3b682",
   "metadata": {},
   "outputs": [
    {
     "name": "stdout",
     "output_type": "stream",
     "text": [
      "Humans created AI through a combination of computer science, mathematics, and cognitive science. The development of AI can be traced back to the mid-20th century, with key milestones including:\n",
      "\n",
      "1. **Theoretical Foundations**: Early work in logic, algorithms, and computation laid the groundwork for AI. Alan Turing's concept of a \"universal machine\" and his work on the Turing Test were pivotal.\n",
      "\n",
      "2. **Symbolic AI**: In the 1950s and 1960s, researchers developed systems that used symbolic reasoning to solve problems. This approach focused on manipulating symbols to represent knowledge.\n",
      "\n",
      "3. **Machine Learning**: In the 1980s and 1990s, the focus shifted to machine learning, where algorithms learn from data rather than relying solely on pre-programmed rules. Techniques like neural networks gained popularity.\n",
      "\n",
      "4. **Big Data and Computing Power**: The explosion of data and advancements in computing power in the 21st century enabled more complex models and algorithms, leading to breakthroughs in areas like deep learning.\n",
      "\n",
      "5. **Interdisciplinary Collaboration**: AI development has involved collaboration across various fields, including neuroscience, linguistics, and psychology, to better understand intelligence and learning.\n",
      "\n",
      "6. **Practical Applications**: Over time, AI has been applied to various domains, including natural language processing, computer vision, robotics, and more, leading to the development of systems like virtual assistants, recommendation engines, and autonomous vehicles.\n",
      "\n",
      "Overall, the creation of AI is a result of decades of research, experimentation, and technological advancement.\n",
      "It seems you haven't asked a question. Please go ahead and ask, and I'll do my best to help you!\n"
     ]
    }
   ],
   "source": [
    "from langsmith import traceable\n",
    "from openai import OpenAI\n",
    "from typing import List\n",
    "import nest_asyncio\n",
    "\n",
    "MODEL_PROVIDER = \"openai\"\n",
    "MODEL_NAME = \"gpt-4o-mini\"\n",
    "APP_VERSION = 1.0\n",
    "RAG_SYSTEM_PROMPT = \"\"\"You are an assistant for question-answering tasks.\n",
    "Answer all the questions asked by the user diligently.\n",
    "If you don't know the answer, just say that you don't know.\n",
    "\"\"\"\n",
    "\n",
    "openai_client = OpenAI()\n",
    "nest_asyncio.apply()\n",
    "\n",
    "@traceable\n",
    "def generate_response(question: str):\n",
    "    messages = [\n",
    "        {\n",
    "            \"role\": \"system\",\n",
    "            \"content\": RAG_SYSTEM_PROMPT\n",
    "        },\n",
    "        {\n",
    "            \"role\": \"user\",\n",
    "            \"content\": f\"Question: {question}\"\n",
    "        }\n",
    "    ]\n",
    "    return call_openai(messages)\n",
    "\n",
    "@traceable(\n",
    "    metadata={\"model_name\": MODEL_NAME, \"model_provider\": MODEL_PROVIDER}\n",
    ")\n",
    "def call_openai(\n",
    "    messages: List[dict], model: str = MODEL_NAME, temperature: float = 0.0\n",
    ") -> str:\n",
    "    return openai_client.chat.completions.create(\n",
    "        model=model,\n",
    "        messages=messages,\n",
    "        temperature=temperature,\n",
    "    )\n",
    "\n",
    "@traceable\n",
    "def langsmith_rag(question: str):\n",
    "    response = generate_response(question)\n",
    "    return response.choices[0].message.content\n",
    "\n",
    "#  A simple chatbot without chat history\n",
    "@traceable\n",
    "def chat_bot():\n",
    "    count=1\n",
    "    while True:\n",
    "        question=input(\"Enter your question: \")\n",
    "        if question == \"exit\":\n",
    "            break\n",
    "        response = langsmith_rag(question, langsmith_extra={\"metadata\": {\"Question Number\": str(count)}})\n",
    "        count=count+1;\n",
    "        print(response)\n",
    "\n",
    "\n",
    "\n",
    "chat_bot()"
   ]
  }
 ],
 "metadata": {
  "kernelspec": {
   "display_name": "Python 3",
   "language": "python",
   "name": "python3"
  },
  "language_info": {
   "codemirror_mode": {
    "name": "ipython",
    "version": 3
   },
   "file_extension": ".py",
   "mimetype": "text/x-python",
   "name": "python",
   "nbconvert_exporter": "python",
   "pygments_lexer": "ipython3",
   "version": "3.11.13"
  }
 },
 "nbformat": 4,
 "nbformat_minor": 5
}
