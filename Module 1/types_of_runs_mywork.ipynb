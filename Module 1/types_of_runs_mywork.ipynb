{
 "cells": [
  {
   "cell_type": "code",
   "execution_count": 9,
   "id": "857c2d4d",
   "metadata": {},
   "outputs": [
    {
     "data": {
      "text/plain": [
       "True"
      ]
     },
     "execution_count": 9,
     "metadata": {},
     "output_type": "execute_result"
    }
   ],
   "source": [
    "from dotenv import load_dotenv\n",
    "load_dotenv(override=True)"
   ]
  },
  {
   "cell_type": "markdown",
   "id": "20182234",
   "metadata": {},
   "source": [
    "***My Working example for types of run***"
   ]
  },
  {
   "cell_type": "code",
   "execution_count": 11,
   "id": "4c33a3f7",
   "metadata": {},
   "outputs": [
    {
     "name": "stdout",
     "output_type": "stream",
     "text": [
      "LangSmith simplifies the monitoring, debugging, and optimization of LLM-powered applications by offering detailed traces and metadata for each function call.\n"
     ]
    }
   ],
   "source": [
    "from langsmith import traceable\n",
    "from openai import OpenAI\n",
    "from typing import List, Optional\n",
    "import json\n",
    "\n",
    "# Initialize the OpenAI client\n",
    "openai_client = OpenAI()\n",
    "\n",
    "@traceable()\n",
    "def summarize_text(text: str) -> str:\n",
    "    \"\"\"\n",
    "    Summarizes a given text string.\n",
    "    Example: \"LangSmith helps in debugging and tracing applications\" ->\n",
    "             \"LangSmith simplifies debugging and tracing.\"\n",
    "    \"\"\"\n",
    "    # Simple summarization logic for demo purposes\n",
    "    words = text.split()\n",
    "    summary = \" \".join(words[:10]) + (\"...\" if len(words) > 10 else \"\")\n",
    "    return summary\n",
    "\n",
    "@traceable()\n",
    "def call_openai_summary(\n",
    "    messages: List[dict], tools: Optional[List[dict]]\n",
    ") -> str:\n",
    "    \"\"\"Wrapper for the OpenAI API call.\"\"\"\n",
    "    return openai_client.chat.completions.create(\n",
    "        model=\"gpt-4o-mini\",\n",
    "        messages=messages,\n",
    "        temperature=0,\n",
    "        tools=tools\n",
    "    )\n",
    "\n",
    "@traceable(run_type=\"chain\")\n",
    "def summarize_paragraph(inputs: List[dict], tools: List[dict]):\n",
    "    \"\"\"\n",
    "    Main chain where the LLM identifies a summarization task,\n",
    "    calls the summarization tool, and returns the final output.\n",
    "    \"\"\"\n",
    "    response = call_openai_summary(inputs, tools)\n",
    "\n",
    "    tool_call = response.choices[0].message.tool_calls[0]\n",
    "    tool_call_args = json.loads(tool_call.function.arguments)\n",
    "\n",
    "    text_to_summarize = tool_call_args[\"text\"]\n",
    "\n",
    "    summary_result = summarize_text(text_to_summarize)\n",
    "\n",
    "    tool_response_message = {\n",
    "        \"role\": \"tool\",\n",
    "        \"content\": json.dumps({\n",
    "            \"text\": text_to_summarize,\n",
    "            \"summary\": summary_result,\n",
    "        }),\n",
    "        \"tool_call_id\": tool_call.id\n",
    "    }\n",
    "\n",
    "    inputs.append(response.choices[0].message)\n",
    "    inputs.append(tool_response_message)\n",
    "\n",
    "    output = call_openai_summary(inputs, None)\n",
    "    return output\n",
    "\n",
    "\n",
    "# Tool definition for LangSmith trace\n",
    "summary_tools = [\n",
    "    {\n",
    "        \"type\": \"function\",\n",
    "        \"function\": {\n",
    "            \"name\": \"summarize_text\",\n",
    "            \"description\": \"Generate a short summary of a long paragraph.\",\n",
    "            \"parameters\": {\n",
    "                \"type\": \"object\",\n",
    "                \"properties\": {\n",
    "                    \"text\": {\n",
    "                        \"type\": \"string\",\n",
    "                        \"description\": \"The paragraph or text to summarize.\"\n",
    "                    }\n",
    "                },\n",
    "                \"required\": [\"text\"]\n",
    "            }\n",
    "        }\n",
    "    }\n",
    "]\n",
    "\n",
    "# Input messages for the LLM\n",
    "summary_inputs = [\n",
    "    {\"role\": \"system\", \"content\": \"You are a helpful assistant that summarizes text using the 'summarize_text' tool.\"},\n",
    "    {\"role\": \"user\", \"content\": \"Please summarize the following paragraph:\\n\\nLangSmith makes it easier to monitor, debug, and optimize LLM-powered applications by providing detailed traces and metadata for every function call.\"}\n",
    "]\n",
    "\n",
    "# The corrected part: You must call the main function for the trace to be generated and logged.\n",
    "if __name__ == \"__main__\":\n",
    "    final_output = summarize_paragraph(summary_inputs, summary_tools)\n",
    "    print(final_output.choices[0].message.content)"
   ]
  },
  {
   "cell_type": "markdown",
   "id": "2fc0d2fd",
   "metadata": {},
   "source": [
    "This is the link of the run i have shared - \n",
    "https://smith.langchain.com/public/40f018dd-cfd3-400a-ae8a-1c2580a44d2f/r"
   ]
  }
 ],
 "metadata": {
  "kernelspec": {
   "display_name": "Python 3",
   "language": "python",
   "name": "python3"
  },
  "language_info": {
   "codemirror_mode": {
    "name": "ipython",
    "version": 3
   },
   "file_extension": ".py",
   "mimetype": "text/x-python",
   "name": "python",
   "nbconvert_exporter": "python",
   "pygments_lexer": "ipython3",
   "version": "3.11.13"
  }
 },
 "nbformat": 4,
 "nbformat_minor": 5
}
